{
 "cells": [
  {
   "cell_type": "code",
   "execution_count": 1,
   "metadata": {},
   "outputs": [],
   "source": [
    "import pandas as pd\n",
    "import json"
   ]
  },
  {
   "cell_type": "code",
   "execution_count": 2,
   "metadata": {},
   "outputs": [],
   "source": [
    "# Variables de referencia\n",
    "file_id = '1mLRSi2pxOm9SkzrJkLgM1ix8_qptxgCepRiZaR9M4no'\n",
    "preguntas_gid = '0'\n",
    "data_folder = '../../content/chat_ele'"
   ]
  },
  {
   "cell_type": "code",
   "execution_count": 3,
   "metadata": {},
   "outputs": [],
   "source": [
    "# Leer archivo y guardarlo\n",
    "url_preguntas = f'https://docs.google.com/spreadsheets/d/{file_id}/export?format=csv&gid={preguntas_gid}'\n",
    "df_preguntas= pd.read_csv(url_preguntas)"
   ]
  },
  {
   "cell_type": "code",
   "execution_count": 5,
   "metadata": {},
   "outputs": [],
   "source": [
    "df_preguntas.to_json(f'{data_folder}/preguntas_chat_ele.json', orient='records', force_ascii=False)"
   ]
  },
  {
   "cell_type": "code",
   "execution_count": 5,
   "metadata": {},
   "outputs": [
    {
     "name": "stdout",
     "output_type": "stream",
     "text": [
      "Archivo preguntas_chat_ele.js creado con éxito\n"
     ]
    }
   ],
   "source": [
    "# Convertir el DataFrame a una lista de diccionarios\n",
    "preguntas_list = df_preguntas.to_dict(orient=\"records\")\n",
    "\n",
    "# Convertir la lista de diccionarios a un string JSON\n",
    "preguntas_json = json.dumps(preguntas_list, indent=4, ensure_ascii=False)\n",
    "\n",
    "# Crear el contenido del archivo .js\n",
    "preguntas_js = f\"const dataPreguntas = {preguntas_json};\"\n",
    "\n",
    "# Guardar el contenido en un archivo logros.js\n",
    "with open(f\"{data_folder}/preguntas_chat_ele.js\", \"w\", encoding=\"utf-8\") as file:\n",
    "    file.write(preguntas_js)\n",
    "\n",
    "print(\"Archivo preguntas_chat_ele.js creado con éxito\")"
   ]
  }
 ],
 "metadata": {
  "kernelspec": {
   "display_name": "Python 3",
   "language": "python",
   "name": "python3"
  },
  "language_info": {
   "codemirror_mode": {
    "name": "ipython",
    "version": 3
   },
   "file_extension": ".py",
   "mimetype": "text/x-python",
   "name": "python",
   "nbconvert_exporter": "python",
   "pygments_lexer": "ipython3",
   "version": "3.12.5"
  }
 },
 "nbformat": 4,
 "nbformat_minor": 2
}
