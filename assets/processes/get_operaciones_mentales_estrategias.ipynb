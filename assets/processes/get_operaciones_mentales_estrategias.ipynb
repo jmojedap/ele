{
 "cells": [
  {
   "cell_type": "code",
   "execution_count": 1,
   "metadata": {},
   "outputs": [],
   "source": [
    "import pandas as pd\n",
    "import json"
   ]
  },
  {
   "cell_type": "code",
   "execution_count": 3,
   "metadata": {},
   "outputs": [],
   "source": [
    "# Variables de referencia\n",
    "operaciones_mentales_file_id = '1fT34D7pK0m-ljYH5Z_S0FK6DFeZlJNPLDvJT3iaMYLM'\n",
    "logros_gid = '706240877'\n",
    "data_folder = '../../content/operaciones_mentales'"
   ]
  },
  {
   "cell_type": "code",
   "execution_count": 4,
   "metadata": {},
   "outputs": [],
   "source": [
    "# Leer archivo y guardarlo\n",
    "url_logros = f'https://docs.google.com/spreadsheets/d/{operaciones_mentales_file_id}/export?format=csv&gid={logros_gid}'\n",
    "df_logros = pd.read_csv(url_logros)"
   ]
  },
  {
   "cell_type": "code",
   "execution_count": 5,
   "metadata": {},
   "outputs": [
    {
     "name": "stdout",
     "output_type": "stream",
     "text": [
      "Archivo logros.js creado con éxito\n"
     ]
    }
   ],
   "source": [
    "df_logros = df_logros[df_logros['area_id'] != 0]\n",
    "\n",
    "# Convertir el DataFrame a una lista de diccionarios\n",
    "logros_list = df_logros.to_dict(orient=\"records\")\n",
    "\n",
    "# Convertir la lista de diccionarios a un string JSON\n",
    "logros_json = json.dumps(logros_list, indent=4, ensure_ascii=False)\n",
    "\n",
    "# Crear el contenido del archivo .js\n",
    "logros_js = f\"const dataLogros = {logros_json};\"\n",
    "\n",
    "# Guardar el contenido en un archivo logros.js\n",
    "with open(f\"{data_folder}/logros.js\", \"w\", encoding=\"utf-8\") as file:\n",
    "    file.write(logros_js)\n",
    "\n",
    "print(\"Archivo logros.js creado con éxito\")"
   ]
  }
 ],
 "metadata": {
  "kernelspec": {
   "display_name": "Python 3",
   "language": "python",
   "name": "python3"
  },
  "language_info": {
   "codemirror_mode": {
    "name": "ipython",
    "version": 3
   },
   "file_extension": ".py",
   "mimetype": "text/x-python",
   "name": "python",
   "nbconvert_exporter": "python",
   "pygments_lexer": "ipython3",
   "version": "3.12.5"
  }
 },
 "nbformat": 4,
 "nbformat_minor": 2
}
